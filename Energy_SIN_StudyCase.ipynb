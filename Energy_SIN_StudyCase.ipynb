{
 "cells": [
  {
   "cell_type": "markdown",
   "metadata": {},
   "source": [
    "# Sistema Interconectado Nacional de Energía Eléctrica de Colombia (SIN)\n",
    "EL Sistema Interconectado Nacional es el sistema compuesto por los siguientes elementos conectados entre sí: las plantas y equipos de generación, la red de interconexión, las redes regionales e interregionales de transmisión, las redes de distribución, y las cargas eléctricas de los usuarios. [XM](https://www.xm.com.co/corporativo/Paginas/Herramientas/glosario.aspx)\n",
    "\n",
    "En el presente caso de estudio se pretende mostrar las principales variables que interactuan en el SIN e inciden en los mercado de Energía Eléctrica y Gas Natural\n",
    "\n",
    "\n"
   ]
  },
  {
   "cell_type": "code",
   "execution_count": 28,
   "metadata": {},
   "outputs": [],
   "source": [
    "from bs4 import BeautifulSoup as bfs4\n",
    "import pandas as pd \n",
    "import numpy as np \n",
    "import matplotlib as plt\n",
    "import requests as rq\n",
    "from datetime import date\n",
    "from datetime import datetime\n",
    "import requests"
   ]
  },
  {
   "cell_type": "markdown",
   "metadata": {},
   "source": [
    "Downloading source file from [XM_PortalBI](http://portalbissrs.xm.com.co/oferta/Histricos/Generacion_(kWh)_TRIM1_2020.xlsx)"
   ]
  },
  {
   "cell_type": "code",
   "execution_count": 70,
   "metadata": {
    "tags": []
   },
   "outputs": [
    {
     "output_type": "stream",
     "name": "stdout",
     "text": "Archivo descargado: 2020_10_14_Generacion_(kWh)_TRIM4_2020.xlsx\n"
    }
   ],
   "source": [
    "now = datetime.now()\n",
    "year = now.strftime('%Y')\n",
    "month = now.strftime('%m')\n",
    "day = now.strftime('%d')\n",
    "day = int(day)\n",
    "if (day-3) < 10:\n",
    "    dayres3 = \"0\" + str(day - 3) #3 days delay\n",
    "else:\n",
    "    dayres3 = str(day - 3) #3 days delay\n",
    "\n",
    "m = int(month)\n",
    "if m >= 1 and m <=3:\n",
    "    trim = \"1\"\n",
    "elif m >= 4 and m <=6:\n",
    "    trim = \"2\"\n",
    "elif m >= 7 and m <=9:\n",
    "    trim = \"3\"\n",
    "else:\n",
    "    trim = \"4\"\n",
    "\n",
    "name = '{0}_{1}_{2}_Generacion_(kWh)_TRIM{3}_{0}.xlsx'.format(year,month,dayres3,trim)\n",
    "linkgen = \"http://portalbissrs.xm.com.co/oferta/Histricos/Generacion_(kWh)_TRIM_{0}_{1}.xlsx\".format(trim,year)\n",
    "\n",
    "resp = requests.get(linkgen)\n",
    "output = open(name, 'wb')\n",
    "output.write(resp.content)\n",
    "output.close()\n",
    "print(\"Archivo descargado:\",name)\n"
   ]
  },
  {
   "cell_type": "code",
   "execution_count": 35,
   "metadata": {},
   "outputs": [
    {
     "output_type": "execute_result",
     "data": {
      "text/plain": "<_io.BufferedWriter name='2020_10_14_Generacion_(kWh)_TRIM4_2020.xlsx'>"
     },
     "metadata": {},
     "execution_count": 35
    }
   ],
   "source": []
  },
  {
   "cell_type": "markdown",
   "metadata": {
    "tags": []
   },
   "source": [
    "archivo_excel = pd.read_table(name)\n",
    "#archivo_excel = pd.read_excel(open(name,'rb'))\n",
    "#xl = pd.ExcelFile(name)\n",
    "#print(archivo_excel.columns)\n",
    "print(archivo_excel)\n",
    "#values = archivo_excel['Identificador'].values\n",
    "#print(values)"
   ]
  },
  {
   "cell_type": "markdown",
   "metadata": {},
   "source": [
    "os.rename(name, name[0:-5]+'.csv')\n",
    "csv = pd.read_html(name[0:-5]+'.csv')#, error_bad_lines=False)"
   ]
  },
  {
   "cell_type": "markdown",
   "metadata": {},
   "source": [
    "csv"
   ]
  },
  {
   "cell_type": "code",
   "execution_count": null,
   "metadata": {},
   "outputs": [],
   "source": [
    "Fecha\tRecurso\tTipo Generación\tCombustible\tCódigo Agente\tTipo Despacho\tEs Menor\tClasificación\t0\t1\t2\t3\t4\t5\t6\t7\t8\t9\t10\t11\t12\t13\t14\t15\t16\t17\t18\t19\t20\t21\t22\t23\tVersion"
   ]
  }
 ],
 "metadata": {
  "kernelspec": {
   "display_name": "Python 3.8.5 64-bit ('Energy_SIN': conda)",
   "language": "python",
   "name": "python38564bitenergysinconda29dee25cf61745eaa499a591468fb13b"
  },
  "language_info": {
   "codemirror_mode": {
    "name": "ipython",
    "version": 3
   },
   "file_extension": ".py",
   "mimetype": "text/x-python",
   "name": "python",
   "nbconvert_exporter": "python",
   "pygments_lexer": "ipython3",
   "version": "3.8.5-final"
  }
 },
 "nbformat": 4,
 "nbformat_minor": 4
}