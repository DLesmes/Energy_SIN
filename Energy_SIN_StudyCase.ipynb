{
 "cells": [
  {
   "cell_type": "markdown",
   "metadata": {},
   "source": [
    "# Sistema Interconectado Nacional de Energía Eléctrica de Colombia (SIN)\n",
    "EL Sistema Interconectado Nacional es el sistema compuesto por los siguientes elementos conectados entre sí: las plantas y equipos de generación, la red de interconexión, las redes regionales e interregionales de transmisión, las redes de distribución, y las cargas eléctricas de los usuarios. [XM](https://www.xm.com.co/corporativo/Paginas/Herramientas/glosario.aspx)\n",
    "\n",
    "En el presente caso de estudio se pretende mostrar las principales variables que interactuan en el SIN e inciden los mercado de Energía Eléctrica y Gas Natural\n",
    "\n",
    "\n"
   ]
  },
  {
   "cell_type": "code",
   "execution_count": 7,
   "metadata": {},
   "outputs": [],
   "source": [
    "from bs4 import BeautifulSoup as bfs4\n",
    "import pandas as pd \n",
    "import numpy as np \n",
    "import matplotlib as plt\n",
    "import requests as rq\n",
    "from datetime import date\n",
    "from datetime import datetime"
   ]
  },
  {
   "cell_type": "markdown",
   "metadata": {},
   "source": [
    "http://portalbissrs.xm.com.co/oferta/Histricos/Generacion_(kWh)_TRIM1_2020.xlsx"
   ]
  },
  {
   "cell_type": "code",
   "execution_count": null,
   "metadata": {},
   "outputs": [],
   "source": [
    "\n",
    "#Estructura de los nombres de los archivos a descargar PORTALBI-XM:\n",
    "now = datetime.now()\n",
    "year = now.strftime('%Y')\n",
    "month = now.strftime('%m')\n",
    "day = now.strftime('%d')\n",
    "day = int(day)\n",
    "dayres3 = \"0\" + str(day - 3) #rezago de 3 días\n",
    "g = \"_\"\n",
    "\n",
    "m = int(month)\n",
    "if m >= 1 and m <=3:\n",
    "    trim = \"1\"\n",
    "elif m >= 4 and m <=6:\n",
    "    trim = \"2\"\n",
    "elif m >= 7 and m <=9:\n",
    "    trim = \"3\"\n",
    "else:\n",
    "    trim = \"4\"\n",
    "\n",
    "names = []\n",
    "namegen = year + g + month + g + dayres3 + g + \"Generacion_(kWh)\" + g + year + \"TRIM\" + trim + \".xlsx\"\n",
    "nameintecu = year + g + month + g + dayres3 + g + \"Exportacion_Importacion_Ecuador\" + g + year + \".xlsx\"\n",
    "nameintven = year + g + month + g + dayres3 + g + \"Exportacion_Importacion_Venezuela\" + g + year + \".xlsx\"\n",
    "namecomb = year + g + month + g + dayres3 + g + \"Consumo_De_Combustible_(MBTU)\" + g + year + \".xlsx\"\n",
    "names.append(namegen)\n",
    "names.append(nameintecu)\n",
    "names.append(nameintven)\n",
    "names.append(namecomb)\n",
    "\n",
    "import requests\n",
    "links = []\n",
    "linkgen = \"http://portalbissrs.xm.com.co/oferta/Histricos/Generacion_(kWh)_TRIM\" + trim + g + year + \".xlsx\"\n",
    "linkintecu = \"http://portalbissrs.xm.com.co/dmnd/Histricos/Exportacion_Importacion_Ecuador\" + g + year + \".xlsx\"\n",
    "linkintven = \"http://portalbissrs.xm.com.co/dmnd/Histricos/Exportacion_Importacion_Venezuela\" + g + year + \".xlsx\"\n",
    "linkcomb = \"http://portalbissrs.xm.com.co/oferta/Histricos/Consumo_De_Combustible_(MBTU)\" + g + year + \".xlsx\"\n",
    "links.append(linkgen)\n",
    "links.append(linkintecu)\n",
    "links.append(linkintven)\n",
    "links.append(linkcomb)\n",
    "\n",
    "resp = requests.get(linkgen)\n",
    "output = open(namegen, 'wb')\n",
    "output.write(resp.content)\n",
    "output.close()\n",
    "print(\"Archivo descargado:\",namegen)\n",
    "\n",
    "resp = requests.get(linkintecu)\n",
    "output = open(nameintecu, 'wb')\n",
    "output.write(resp.content)\n",
    "output.close()\n",
    "print(\"Archivo descargado:\",nameintecu)\n",
    "\n",
    "resp = requests.get(linkintven)\n",
    "output = open(nameintven, 'wb')\n",
    "output.write(resp.content)\n",
    "output.close()\n",
    "print(\"Archivo descargado:\",nameintven)\n",
    "\n",
    "resp = requests.get(linkcomb)\n",
    "output = open(namecomb, 'wb')\n",
    "output.write(resp.content)\n",
    "output.close()\n",
    "print(\"Archivo descargado:\",namecomb)"
   ]
  }
 ],
 "metadata": {
  "kernelspec": {
   "display_name": "Python 3.8.5 64-bit ('Energy_SIN': conda)",
   "language": "python",
   "name": "python38564bitenergysinconda29dee25cf61745eaa499a591468fb13b"
  },
  "language_info": {
   "codemirror_mode": {
    "name": "ipython",
    "version": 3
   },
   "file_extension": ".py",
   "mimetype": "text/x-python",
   "name": "python",
   "nbconvert_exporter": "python",
   "pygments_lexer": "ipython3",
   "version": "3.8.5"
  }
 },
 "nbformat": 4,
 "nbformat_minor": 4
}